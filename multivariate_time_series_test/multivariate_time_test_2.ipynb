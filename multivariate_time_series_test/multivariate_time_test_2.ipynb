{
 "cells": [
  {
   "cell_type": "code",
   "execution_count": 1,
   "metadata": {},
   "outputs": [],
   "source": [
    "import pandas as pd\n",
    "import numpy as np\n",
    "import matplotlib.pyplot as plt\n",
    "import plotly.express as px  # to plot the time series plot\n",
    "from sklearn import metrics  # for the evaluation\n",
    "from sklearn.preprocessing import LabelEncoder, MinMaxScaler\n",
    "import tensorflow as tf"
   ]
  },
  {
   "cell_type": "code",
   "execution_count": 2,
   "metadata": {},
   "outputs": [
    {
     "name": "stdout",
     "output_type": "stream",
     "text": [
      "      holiday    temp  rain_1h  snow_1h  clouds_all  weather_main  \\\n",
      "0        None  288.28      0.0      0.0          40        Clouds   \n",
      "1        None  289.36      0.0      0.0          75        Clouds   \n",
      "2        None  289.58      0.0      0.0          90        Clouds   \n",
      "3        None  290.13      0.0      0.0          90        Clouds   \n",
      "4        None  291.14      0.0      0.0          75        Clouds   \n",
      "...       ...     ...      ...      ...         ...           ...   \n",
      "48199    None  283.45      0.0      0.0          75        Clouds   \n",
      "48200    None  282.76      0.0      0.0          90        Clouds   \n",
      "48201    None  282.73      0.0      0.0          90  Thunderstorm   \n",
      "48202    None  282.09      0.0      0.0          90        Clouds   \n",
      "48203    None  282.12      0.0      0.0          90        Clouds   \n",
      "\n",
      "          weather_description            date_time  traffic_volume  \n",
      "0            scattered clouds  2012-10-02 09:00:00            5545  \n",
      "1               broken clouds  2012-10-02 10:00:00            4516  \n",
      "2             overcast clouds  2012-10-02 11:00:00            4767  \n",
      "3             overcast clouds  2012-10-02 12:00:00            5026  \n",
      "4               broken clouds  2012-10-02 13:00:00            4918  \n",
      "...                       ...                  ...             ...  \n",
      "48199           broken clouds  2018-09-30 19:00:00            3543  \n",
      "48200         overcast clouds  2018-09-30 20:00:00            2781  \n",
      "48201  proximity thunderstorm  2018-09-30 21:00:00            2159  \n",
      "48202         overcast clouds  2018-09-30 22:00:00            1450  \n",
      "48203         overcast clouds  2018-09-30 23:00:00             954  \n",
      "\n",
      "[48204 rows x 9 columns]\n"
     ]
    }
   ],
   "source": [
    "data = pd.read_csv('metro_data.csv')\n",
    "print(data)"
   ]
  },
  {
   "cell_type": "code",
   "execution_count": 3,
   "metadata": {},
   "outputs": [],
   "source": [
    "for i in data.select_dtypes('object').columns:\n",
    "    tmp = tuple(data[i])\n",
    "    le = LabelEncoder().fit(tmp)\n",
    "    data[i] = le.transform(tmp)\n",
    "\n",
    "X_scaler = MinMaxScaler()\n",
    "Y_scaler = MinMaxScaler()\n",
    "X_data = X_scaler.fit_transform(data[['holiday', 'temp', 'rain_1h', 'snow_1h', 'clouds_all', 'weather_main',\n",
    "                                      'weather_description', 'traffic_volume']])\n",
    "Y_data = Y_scaler.fit_transform(data[['traffic_volume']])"
   ]
  },
  {
   "cell_type": "code",
   "execution_count": 4,
   "metadata": {},
   "outputs": [],
   "source": [
    "def custom_ts_multi_data_prep(dataset, target, start, end, window, horizon):\n",
    "    X = []\n",
    "    y = []\n",
    "    start = start + window\n",
    "    if end is None:\n",
    "        end = len(dataset) - horizon\n",
    "    for i in range(start, end):\n",
    "        indices = range(i-window, i)\n",
    "        X.append(dataset[indices])\n",
    "        indicey = range(i+1, i+1+horizon)\n",
    "        y.append(target[indicey])\n",
    "    return np.array(X), np.array(y)"
   ]
  },
  {
   "cell_type": "code",
   "execution_count": 5,
   "metadata": {},
   "outputs": [],
   "source": [
    "hist_window = 48\n",
    "horizon = 10\n",
    "TRAIN_SPLIT = 30000\n",
    "x_train, y_train = custom_ts_multi_data_prep(X_data, Y_data, 0, TRAIN_SPLIT, hist_window, horizon)\n",
    "x_vali, y_vali = custom_ts_multi_data_prep(X_data, Y_data, TRAIN_SPLIT, None, hist_window, horizon)"
   ]
  },
  {
   "cell_type": "code",
   "execution_count": 6,
   "metadata": {},
   "outputs": [
    {
     "name": "stdout",
     "output_type": "stream",
     "text": [
      "Multiple window of past history\n",
      "\n",
      "[[0.63636364 0.92972555 0.         0.         0.4        0.1\n",
      "  0.64864865 0.76167582]\n",
      " [0.63636364 0.93320863 0.         0.         0.75       0.1\n",
      "  0.05405405 0.62032967]\n",
      " [0.63636364 0.93391815 0.         0.         0.9        0.1\n",
      "  0.51351351 0.65480769]\n",
      " [0.63636364 0.93569194 0.         0.         0.9        0.1\n",
      "  0.51351351 0.69038462]\n",
      " [0.63636364 0.93894927 0.         0.         0.75       0.1\n",
      "  0.05405405 0.67554945]\n",
      " [0.63636364 0.94081981 0.         0.         0.01       0.\n",
      "  0.72972973 0.71167582]\n",
      " [0.63636364 0.94549618 0.         0.         0.01       0.\n",
      "  0.72972973 0.76703297]\n",
      " [0.63636364 0.94772148 0.         0.         0.01       0.\n",
      "  0.72972973 0.82623626]\n",
      " [0.63636364 0.9486245  0.         0.         0.2        0.1\n",
      "  0.10810811 0.79546703]\n",
      " [0.63636364 0.94527042 0.         0.         0.2        0.1\n",
      "  0.10810811 0.65521978]\n",
      " [0.63636364 0.93840101 0.         0.         0.2        0.1\n",
      "  0.10810811 0.48612637]\n",
      " [0.63636364 0.93327313 0.         0.         0.01       0.\n",
      "  0.72972973 0.38241758]\n",
      " [0.63636364 0.93078982 0.         0.         0.01       0.\n",
      "  0.72972973 0.32431319]\n",
      " [0.63636364 0.92611346 0.         0.         0.01       0.\n",
      "  0.72972973 0.21002747]\n",
      " [0.63636364 0.92059857 0.         0.         0.01       0.\n",
      "  0.72972973 0.13228022]\n",
      " [0.63636364 0.91795401 0.         0.         0.01       0.\n",
      "  0.72972973 0.06950549]\n",
      " [0.63636364 0.91421292 0.         0.         0.01       0.\n",
      "  0.72972973 0.04409341]\n",
      " [0.63636364 0.90682749 0.         0.         0.01       0.\n",
      "  0.72972973 0.0375    ]\n",
      " [0.63636364 0.90653723 0.         0.         0.01       0.\n",
      "  0.72972973 0.05041209]\n",
      " [0.63636364 0.90150611 0.         0.         0.01       0.\n",
      "  0.72972973 0.11181319]\n",
      " [0.63636364 0.89857129 0.         0.         0.01       0.\n",
      "  0.72972973 0.37335165]\n",
      " [0.63636364 0.89731351 0.         0.         0.01       0.\n",
      "  0.72972973 0.77925824]\n",
      " [0.63636364 0.89695875 0.         0.         0.01       0.\n",
      "  0.72972973 0.89436813]\n",
      " [0.63636364 0.91102009 0.         0.         0.01       0.\n",
      "  0.72972973 0.75151099]\n",
      " [0.63636364 0.94162608 0.         0.         0.01       0.\n",
      "  0.72972973 0.70013736]\n",
      " [0.63636364 0.94568968 0.         0.         0.01       0.\n",
      "  0.72972973 0.67129121]\n",
      " [0.63636364 0.94917277 0.         0.         0.01       0.\n",
      "  0.72972973 0.7331044 ]\n",
      " [0.63636364 0.95194633 0.         0.         0.01       0.\n",
      "  0.72972973 0.78186813]\n",
      " [0.63636364 0.95181733 0.         0.         0.01       0.\n",
      "  0.72972973 0.84299451]\n",
      " [0.63636364 0.94707647 0.         0.         0.2        0.1\n",
      "  0.10810811 0.63502747]\n",
      " [0.63636364 0.93736898 0.         0.         0.2        0.1\n",
      "  0.10810811 0.49326923]\n",
      " [0.63636364 0.92943529 0.         0.         0.2        0.1\n",
      "  0.10810811 0.39807692]\n",
      " [0.63636364 0.92591995 0.         0.         0.01       0.\n",
      "  0.72972973 0.36222527]\n",
      " [0.63636364 0.92317864 0.         0.         0.01       0.\n",
      "  0.72972973 0.24409341]\n",
      " [0.63636364 0.91998581 0.         0.         0.01       0.\n",
      "  0.72972973 0.13942308]\n",
      " [0.63636364 0.917696   0.         0.         0.01       0.\n",
      "  0.72972973 0.08214286]\n",
      " [0.63636364 0.91421292 0.         0.         0.01       0.\n",
      "  0.72972973 0.05068681]\n",
      " [0.63636364 0.9132454  0.         0.         0.01       0.\n",
      "  0.72972973 0.04285714]\n",
      " [0.63636364 0.90960106 0.         0.         0.01       0.\n",
      "  0.72972973 0.05041209]\n",
      " [0.63636364 0.90847228 0.         0.         0.01       0.\n",
      "  0.72972973 0.1146978 ]\n",
      " [0.63636364 0.907279   0.         0.         0.01       0.\n",
      "  0.72972973 0.37445055]\n",
      " [0.63636364 0.90540846 0.         0.         0.01       0.\n",
      "  0.72972973 0.78145604]\n",
      " [0.63636364 0.90486019 0.         0.         0.01       0.\n",
      "  0.72972973 0.96016484]\n",
      " [0.63636364 0.90902054 0.         0.         0.01       0.\n",
      "  0.72972973 0.82211538]\n",
      " [0.63636364 0.91908279 0.         0.         0.01       0.\n",
      "  0.72972973 0.72925824]\n",
      " [0.63636364 0.93262812 0.         0.         0.01       0.\n",
      "  0.72972973 0.63228022]\n",
      " [0.63636364 0.94027155 0.         0.         0.01       0.\n",
      "  0.72972973 0.67087912]\n",
      " [0.63636364 0.95130132 0.         0.         0.01       0.\n",
      "  0.72972973 0.7010989 ]]\n",
      "\n",
      " Target horizon\n",
      "\n",
      "[[0.75563187]\n",
      " [0.78475275]\n",
      " [0.86428571]\n",
      " [0.83200549]\n",
      " [0.67403846]\n",
      " [0.48118132]\n",
      " [0.41717033]\n",
      " [0.38763736]\n",
      " [0.27362637]\n",
      " [0.16016484]]\n"
     ]
    }
   ],
   "source": [
    "print('Multiple window of past history\\n')\n",
    "print(x_train[0])\n",
    "print('\\n Target horizon\\n')\n",
    "print(y_train[0])"
   ]
  },
  {
   "cell_type": "code",
   "execution_count": 7,
   "metadata": {},
   "outputs": [
    {
     "name": "stdout",
     "output_type": "stream",
     "text": [
      "Model: \"sequential\"\n",
      "_________________________________________________________________\n",
      " Layer (type)                Output Shape              Param #   \n",
      "=================================================================\n",
      " bidirectional (Bidirectiona  (None, 48, 400)          334400    \n",
      " l)                                                              \n",
      "                                                                 \n",
      " dense (Dense)               (None, 48, 20)            8020      \n",
      "                                                                 \n",
      " bidirectional_1 (Bidirectio  (None, 300)              205200    \n",
      " nal)                                                            \n",
      "                                                                 \n",
      " dense_1 (Dense)             (None, 20)                6020      \n",
      "                                                                 \n",
      " dense_2 (Dense)             (None, 20)                420       \n",
      "                                                                 \n",
      " dropout (Dropout)           (None, 20)                0         \n",
      "                                                                 \n",
      " dense_3 (Dense)             (None, 10)                210       \n",
      "                                                                 \n",
      "=================================================================\n",
      "Total params: 554,270\n",
      "Trainable params: 554,270\n",
      "Non-trainable params: 0\n",
      "_________________________________________________________________\n"
     ]
    }
   ],
   "source": [
    "batch_size = 256\n",
    "buffer_size = 150\n",
    "train_data = tf.data.Dataset.from_tensor_slices((x_train, y_train))\n",
    "train_data = train_data.cache().shuffle(buffer_size).batch(batch_size).repeat()\n",
    "val_data = tf.data.Dataset.from_tensor_slices((x_vali, y_vali))\n",
    "val_data = val_data.batch(batch_size).repeat()\n",
    "\n",
    "lstm_model = tf.keras.models.Sequential([\n",
    "    tf.keras.layers.Bidirectional(tf.keras.layers.LSTM(200, return_sequences=True),\n",
    "                                  input_shape=x_train.shape[-2:]),\n",
    "    tf.keras.layers.Dense(20, activation='tanh'),\n",
    "    tf.keras.layers.Bidirectional(tf.keras.layers.LSTM(150)),\n",
    "    tf.keras.layers.Dense(20, activation='tanh'),\n",
    "    tf.keras.layers.Dense(20, activation='tanh'),\n",
    "    tf.keras.layers.Dropout(0.25),\n",
    "    tf.keras.layers.Dense(units=horizon),\n",
    "])\n",
    "lstm_model.compile(optimizer='adam', loss='mse')\n",
    "lstm_model.summary()"
   ]
  },
  {
   "cell_type": "code",
   "execution_count": 8,
   "metadata": {},
   "outputs": [
    {
     "name": "stdout",
     "output_type": "stream",
     "text": [
      "100/100 [==============================] - 79s 752ms/step - loss: 0.0992 - val_loss: 0.0775\n"
     ]
    }
   ],
   "source": [
    "model_path = 'Bidirectional_LSTM_Multivariate.h5'\n",
    "early_stopings = tf.keras.callbacks.EarlyStopping(monitor='val_loss', min_delta=0, patience=10, verbose=1, mode='min')\n",
    "checkpoint = tf.keras.callbacks.ModelCheckpoint(\n",
    "    model_path, monitor='val_loss', save_best_only=True, mode='min', verbose=0)\n",
    "callbacks = [early_stopings, checkpoint]\n",
    "\n",
    "# history = lstm_model.fit(train_data, epochs=150, steps_per_epoch=100, validation_data=val_data,\n",
    "#                          validation_steps=50, verbose=1, callbacks=callbacks)\n",
    "\n",
    "history = lstm_model.fit(train_data, epochs=1, steps_per_epoch=100, validation_data=val_data,\n",
    "                         validation_steps=50, verbose=1, callbacks=callbacks)"
   ]
  },
  {
   "cell_type": "code",
   "execution_count": 9,
   "metadata": {},
   "outputs": [
    {
     "data": {
      "image/png": "[encoded data removed]",
      "text/plain": [
       "<Figure size 1152x648 with 1 Axes>"
      ]
     },
     "metadata": {
      "needs_background": "light"
     },
     "output_type": "display_data"
    }
   ],
   "source": [
    "plt.figure(figsize=(16,9))\n",
    "plt.plot(history.history['loss'])\n",
    "plt.plot(history.history['val_loss'])\n",
    "plt.title('Model loss')\n",
    "plt.ylabel('loss')\n",
    "plt.xlabel('epoch')\n",
    "plt.legend(['train loss', 'validation loss'])\n",
    "plt.show()"
   ]
  },
  {
   "cell_type": "code",
   "execution_count": 21,
   "metadata": {},
   "outputs": [
    {
     "name": "stdout",
     "output_type": "stream",
     "text": [
      "48\n"
     ]
    }
   ],
   "source": [
    "data_val = X_scaler.fit_transform(data[['holiday', 'temp', 'rain_1h', 'snow_1h',\n",
    "                                  'clouds_all', 'weather_main', 'weather_description', 'traffic_volume']].tail(48))\n",
    "val_rescaled = data_val.reshape(1, data_val.shape[0], data_val.shape[1])\n",
    "print(len(val_rescaled[0]))\n",
    "pred = lstm_model.predict(val_rescaled)\n",
    "pred_Inverse = Y_scaler.inverse_transform(pred)\n",
    "# pred_Inverse"
   ]
  },
  {
   "cell_type": "code",
   "execution_count": 11,
   "metadata": {},
   "outputs": [],
   "source": [
    "def timeseries_evaluation_metrics_func(y_true, y_pred):\n",
    "    def mean_absolute_percentage_error(y_true, y_pred):\n",
    "        y_true, y_pred = np.array(y_true), np.array(y_pred)\n",
    "        return np.mean(np.abs((y_true - y_pred) / y_true)) * 100\n",
    "    print('Evaluation metric results:-')\n",
    "    print(f'MSE is : {metrics.mean_squared_error(y_true, y_pred)}')\n",
    "    print(f'MAE is : {metrics.mean_absolute_error(y_true, y_pred)}')\n",
    "    print(f'RMSE is : {np.sqrt(metrics.mean_squared_error(y_true, y_pred))}')\n",
    "    print(f'MAPE is : {mean_absolute_percentage_error(y_true, y_pred)}')\n",
    "    print(f'R2 is : {metrics.r2_score(y_true, y_pred)}', end='\\n\\n')"
   ]
  },
  {
   "cell_type": "code",
   "execution_count": 12,
   "metadata": {},
   "outputs": [
    {
     "name": "stdout",
     "output_type": "stream",
     "text": [
      "Evaluation metric results:-\n",
      "MSE is : 6599260.336496569\n",
      "MAE is : 2199.8828857421877\n",
      "RMSE is : 2568.9025548853674\n",
      "MAPE is : 67.23230853147605\n",
      "R2 is : -3.5480535670633513\n",
      "\n"
     ]
    }
   ],
   "source": [
    "timeseries_evaluation_metrics_func(list(map(lambda el: el[0], data[[\"traffic_volume\"]].tail(10).values)),pred_Inverse[0])"
   ]
  },
  {
   "cell_type": "code",
   "execution_count": 13,
   "metadata": {},
   "outputs": [
    {
     "data": {
      "image/png": "[encoded data removed]",
      "text/plain": [
       "<Figure size 1152x648 with 1 Axes>"
      ]
     },
     "metadata": {
      "needs_background": "light"
     },
     "output_type": "display_data"
    }
   ],
   "source": [
    "plt.figure(figsize=(16, 9))\n",
    "plt.plot(list(map(lambda el: el[0], data[[\"traffic_volume\"]].tail(10).values)))\n",
    "plt.plot(list(pred_Inverse[0]))\n",
    "plt.title(\"Actual vs Predicted\")\n",
    "plt.ylabel(\"Traffic volume\")\n",
    "plt.legend(('Actual', 'predicted'))\n",
    "plt.show()"
   ]
  }
 ],
 "metadata": {
  "interpreter": {
   "hash": "8bff19062e5ffb8ef590c14e99a98237c60d77c5521d50274a98ce94f2f4c626"
  },
  "kernelspec": {
   "display_name": "Python 3.10.2 64-bit",
   "language": "python",
   "name": "python3"
  },
  "language_info": {
   "codemirror_mode": {
    "name": "ipython",
    "version": 3
   },
   "file_extension": ".py",
   "mimetype": "text/x-python",
   "name": "python",
   "nbconvert_exporter": "python",
   "pygments_lexer": "ipython3",
   "version": "3.10.2"
  },
  "orig_nbformat": 4
 },
 "nbformat": 4,
 "nbformat_minor": 2
}
