{
 "cells": [
  {
   "cell_type": "code",
   "execution_count": 14,
   "metadata": {},
   "outputs": [
    {
     "name": "stdout",
     "output_type": "stream",
     "text": [
      "   latitude  longitude\n",
      "0   36.4686    2.82890\n",
      "1   36.6725    2.78940\n",
      "2   36.5139    2.41780\n",
      "3   36.7525    3.04197\n",
      "4   36.5994    2.99440\n"
     ]
    },
    {
     "data": {
      "application/vnd.jupyter.widget-view+json": {
       "model_id": "572511ff12834c4a8e4b918beeb47daf",
       "version_major": 2,
       "version_minor": 0
      },
      "text/plain": [
       "Figure(layout=FigureLayout(height='420px'))"
      ]
     },
     "metadata": {},
     "output_type": "display_data"
    }
   ],
   "source": [
    "import gmaps\n",
    "import gmaps.datasets\n",
    "\n",
    "locations = gmaps.datasets.load_dataset_as_df('acled_africa')\n",
    "print(locations.head())\n",
    "heatmap_layer = gmaps.heatmap_layer(locations)\n",
    "heatmap_layer.max_intensity = 100\n",
    "heatmap_layer.point_radius = 5\n",
    "bezigrad_coordiantes = (46.062419, 14.508276)\n",
    "fig = gmaps.figure(center=bezigrad_coordiantes, zoom_level=12)\n",
    "fig.add_layer(heatmap_layer)\n",
    "fig.add_layer(gmaps.traffic_layer())\n",
    "\n",
    "fig"
   ]
  }
 ],
 "metadata": {
  "interpreter": {
   "hash": "178905ed309a3358efc2ee5f5e5958ea9eacdb3bc5d31bb8e4ee3749093c5aa1"
  },
  "kernelspec": {
   "display_name": "Python 3.10.2 64-bit",
   "language": "python",
   "name": "python3"
  },
  "language_info": {
   "codemirror_mode": {
    "name": "ipython",
    "version": 3
   },
   "file_extension": ".py",
   "mimetype": "text/x-python",
   "name": "python",
   "nbconvert_exporter": "python",
   "pygments_lexer": "ipython3",
   "version": "3.10.2"
  },
  "orig_nbformat": 4
 },
 "nbformat": 4,
 "nbformat_minor": 2
}
